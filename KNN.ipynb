{
 "cells": [
  {
   "cell_type": "code",
   "execution_count": 21,
   "metadata": {},
   "outputs": [],
   "source": [
    "#Standard imports\n",
    "import numpy as np\n",
    "import pandas as pd\n",
    "import matplotlib.pyplot as plt\n",
    "from matplotlib.colors import ListedColormap\n",
    "from knn import KNN\n",
    "\n",
    "# Scikit Learn\n",
    "from sklearn.preprocessing import StandardScaler\n",
    "from sklearn.decomposition import PCA\n",
    "from sklearn.discriminant_analysis import LinearDiscriminantAnalysis\n",
    "from sklearn.neighbors import KNeighborsClassifier\n",
    "from sklearn.neural_network import MLPClassifier\n",
    "from sklearn.metrics import accuracy_score\n",
    "from sklearn.model_selection import cross_val_score"
   ]
  },
  {
   "cell_type": "code",
   "execution_count": 2,
   "metadata": {},
   "outputs": [],
   "source": [
    "# Load data\n",
    "trainDataNP = np.load(\"fashion_train.npy\")\n",
    "testDataNP = np.load(\"fashion_test.npy\")\n",
    "\n",
    "# Split data into X and y arrays\n",
    "X_train = trainDataNP[:, :-1]\n",
    "y_train = trainDataNP[:, -1]\n",
    "X_test = testDataNP[:, :-1]\n",
    "y_test = testDataNP[:, -1]\n",
    "\n",
    "# Scale data\n",
    "scaler = StandardScaler()\n",
    "X_train_scaled = scaler.fit_transform(X_train)\n",
    "X_test_scaled = scaler.transform(X_test)"
   ]
  },
  {
   "cell_type": "code",
   "execution_count": 5,
   "metadata": {},
   "outputs": [],
   "source": [
    "from lda import LDA\n",
    "MDA_4 = LDA(n_components=4)\n",
    "X_projected_4 = MDA_4.fit_transform(X_train_scaled, y_train)"
   ]
  },
  {
   "cell_type": "code",
   "execution_count": 6,
   "metadata": {},
   "outputs": [],
   "source": [
    "X_t_projected_4 = MDA_4.transform(X_test_scaled)"
   ]
  },
  {
   "cell_type": "code",
   "execution_count": 7,
   "metadata": {},
   "outputs": [],
   "source": [
    "knn = KNN(n_neighbors=5)\n",
    "knn.fit(X_projected_4, y_train)"
   ]
  },
  {
   "cell_type": "code",
   "execution_count": 8,
   "metadata": {},
   "outputs": [
    {
     "data": {
      "text/plain": [
       "array([[ 0.82971112,  0.24316942, -0.01747772,  0.11030337],\n",
       "       [-0.89387159,  0.42502107, -1.49905481,  0.17482644],\n",
       "       [-0.07860835,  1.6058462 ,  0.81584593,  0.20425207],\n",
       "       ...,\n",
       "       [-0.29280525, -1.33862382,  0.87361601, -0.01665758],\n",
       "       [-0.23661279,  0.65166192, -0.31707752, -0.03192474],\n",
       "       [-0.6864828 , -0.25190508,  0.35836202, -0.30729122]])"
      ]
     },
     "execution_count": 8,
     "metadata": {},
     "output_type": "execute_result"
    }
   ],
   "source": [
    "X_t_projected_4"
   ]
  },
  {
   "cell_type": "code",
   "execution_count": 23,
   "metadata": {},
   "outputs": [
    {
     "ename": "AttributeError",
     "evalue": "'KNN' object has no attribute 'X_train'",
     "output_type": "error",
     "traceback": [
      "\u001b[0;31m---------------------------------------------------------------------------\u001b[0m",
      "\u001b[0;31mAttributeError\u001b[0m                            Traceback (most recent call last)",
      "\u001b[1;32m/Users/chris/Desktop/ITU/3rdsem/ML/MachineLearningExam/KNN.ipynb Cell 7\u001b[0m in \u001b[0;36m<cell line: 1>\u001b[0;34m()\u001b[0m\n\u001b[0;32m----> <a href='vscode-notebook-cell:/Users/chris/Desktop/ITU/3rdsem/ML/MachineLearningExam/KNN.ipynb#W6sZmlsZQ%3D%3D?line=0'>1</a>\u001b[0m y_pred \u001b[39m=\u001b[39m knn\u001b[39m.\u001b[39;49mpredict(X_t_projected_4)\n\u001b[1;32m      <a href='vscode-notebook-cell:/Users/chris/Desktop/ITU/3rdsem/ML/MachineLearningExam/KNN.ipynb#W6sZmlsZQ%3D%3D?line=2'>3</a>\u001b[0m accuracy \u001b[39m=\u001b[39m accuracy_score(y_test, y_pred)\n\u001b[1;32m      <a href='vscode-notebook-cell:/Users/chris/Desktop/ITU/3rdsem/ML/MachineLearningExam/KNN.ipynb#W6sZmlsZQ%3D%3D?line=3'>4</a>\u001b[0m \u001b[39mprint\u001b[39m(\u001b[39mf\u001b[39m\u001b[39m'\u001b[39m\u001b[39mAccuracy: \u001b[39m\u001b[39m{\u001b[39;00maccuracy\u001b[39m}\u001b[39;00m\u001b[39m'\u001b[39m)\n",
      "File \u001b[0;32m~/Desktop/ITU/3rdsem/ML/MachineLearningExam/knn.py:63\u001b[0m, in \u001b[0;36mKNN.predict\u001b[0;34m(self, X)\u001b[0m\n\u001b[1;32m     61\u001b[0m \u001b[39mdef\u001b[39;00m \u001b[39mpredict\u001b[39m(\u001b[39mself\u001b[39m, X):\n\u001b[1;32m     62\u001b[0m     \u001b[39m'''Predict the classes for an input array X.'''\u001b[39;00m\n\u001b[0;32m---> 63\u001b[0m     \u001b[39mreturn\u001b[39;00m np\u001b[39m.\u001b[39marray([\u001b[39mself\u001b[39m\u001b[39m.\u001b[39m_predict(x) \u001b[39mfor\u001b[39;00m x \u001b[39min\u001b[39;00m X])\n",
      "File \u001b[0;32m~/Desktop/ITU/3rdsem/ML/MachineLearningExam/knn.py:63\u001b[0m, in \u001b[0;36m<listcomp>\u001b[0;34m(.0)\u001b[0m\n\u001b[1;32m     61\u001b[0m \u001b[39mdef\u001b[39;00m \u001b[39mpredict\u001b[39m(\u001b[39mself\u001b[39m, X):\n\u001b[1;32m     62\u001b[0m     \u001b[39m'''Predict the classes for an input array X.'''\u001b[39;00m\n\u001b[0;32m---> 63\u001b[0m     \u001b[39mreturn\u001b[39;00m np\u001b[39m.\u001b[39marray([\u001b[39mself\u001b[39;49m\u001b[39m.\u001b[39;49m_predict(x) \u001b[39mfor\u001b[39;00m x \u001b[39min\u001b[39;00m X])\n",
      "File \u001b[0;32m~/Desktop/ITU/3rdsem/ML/MachineLearningExam/knn.py:53\u001b[0m, in \u001b[0;36mKNN._predict\u001b[0;34m(self, x)\u001b[0m\n\u001b[1;32m     50\u001b[0m \u001b[39m'''Predict the class for a single data point x.'''\u001b[39;00m\n\u001b[1;32m     52\u001b[0m \u001b[39m# Compute classes for the selected amount of nearest neighbors\u001b[39;00m\n\u001b[0;32m---> 53\u001b[0m k_nearest_labels \u001b[39m=\u001b[39m \u001b[39mself\u001b[39;49m\u001b[39m.\u001b[39;49mget_neighbor_labels(x)\n\u001b[1;32m     55\u001b[0m \u001b[39m# Calculate weighted votes based on amount of neighbors in each class\u001b[39;00m\n\u001b[1;32m     56\u001b[0m weighted_votes \u001b[39m=\u001b[39m {cl: k_nearest_labels\u001b[39m.\u001b[39mcount(cl) \u001b[39m/\u001b[39m \u001b[39mself\u001b[39m\u001b[39m.\u001b[39mn_neighbors \u001b[39mfor\u001b[39;00m cl \u001b[39min\u001b[39;00m \u001b[39mself\u001b[39m\u001b[39m.\u001b[39mclasses}\n",
      "File \u001b[0;32m~/Desktop/ITU/3rdsem/ML/MachineLearningExam/knn.py:39\u001b[0m, in \u001b[0;36mKNN.get_neighbor_labels\u001b[0;34m(self, x)\u001b[0m\n\u001b[1;32m     36\u001b[0m \u001b[39m'''Get the labels of the k nearest neighbors to input x.'''\u001b[39;00m\n\u001b[1;32m     38\u001b[0m \u001b[39m# Compute distance between x and all observations in the training set\u001b[39;00m\n\u001b[0;32m---> 39\u001b[0m distances \u001b[39m=\u001b[39m [np\u001b[39m.\u001b[39mlinalg\u001b[39m.\u001b[39mnorm(x \u001b[39m-\u001b[39m obs) \u001b[39mfor\u001b[39;00m obs \u001b[39min\u001b[39;00m \u001b[39mself\u001b[39;49m\u001b[39m.\u001b[39;49mX_train]\n\u001b[1;32m     41\u001b[0m \u001b[39m# Sort by distance and return indices of the first k neighbors\u001b[39;00m\n\u001b[1;32m     42\u001b[0m k_indices \u001b[39m=\u001b[39m np\u001b[39m.\u001b[39margsort(distances)[:\u001b[39mself\u001b[39m\u001b[39m.\u001b[39mn_neighbors]\n",
      "\u001b[0;31mAttributeError\u001b[0m: 'KNN' object has no attribute 'X_train'"
     ]
    }
   ],
   "source": [
    "y_pred = knn.predict(X_t_projected_4)\n",
    "\n",
    "accuracy = accuracy_score(y_test, y_pred)\n",
    "print(f'Accuracy: {accuracy}')"
   ]
  },
  {
   "cell_type": "code",
   "execution_count": 22,
   "metadata": {},
   "outputs": [
    {
     "ename": "TypeError",
     "evalue": "If no scoring is specified, the estimator passed should have a 'score' method. The estimator <knn.KNN object at 0x7f84290a64f0> does not.",
     "output_type": "error",
     "traceback": [
      "\u001b[0;31m---------------------------------------------------------------------------\u001b[0m",
      "\u001b[0;31mTypeError\u001b[0m                                 Traceback (most recent call last)",
      "\u001b[1;32m/Users/chris/Desktop/ITU/3rdsem/ML/MachineLearningExam/KNN.ipynb Cell 8\u001b[0m in \u001b[0;36m<cell line: 1>\u001b[0;34m()\u001b[0m\n\u001b[1;32m      <a href='vscode-notebook-cell:/Users/chris/Desktop/ITU/3rdsem/ML/MachineLearningExam/KNN.ipynb#X10sZmlsZQ%3D%3D?line=0'>1</a>\u001b[0m \u001b[39mfor\u001b[39;00m k \u001b[39min\u001b[39;00m \u001b[39mrange\u001b[39m (\u001b[39m1\u001b[39m,\u001b[39m10\u001b[39m):\n\u001b[1;32m      <a href='vscode-notebook-cell:/Users/chris/Desktop/ITU/3rdsem/ML/MachineLearningExam/KNN.ipynb#X10sZmlsZQ%3D%3D?line=1'>2</a>\u001b[0m     knn \u001b[39m=\u001b[39m KNN(n_neighbors\u001b[39m=\u001b[39mk)\n\u001b[0;32m----> <a href='vscode-notebook-cell:/Users/chris/Desktop/ITU/3rdsem/ML/MachineLearningExam/KNN.ipynb#X10sZmlsZQ%3D%3D?line=2'>3</a>\u001b[0m     scores \u001b[39m=\u001b[39m cross_val_score(knn, X_train, y_train, cv\u001b[39m=\u001b[39;49m\u001b[39m5\u001b[39;49m)\n\u001b[1;32m      <a href='vscode-notebook-cell:/Users/chris/Desktop/ITU/3rdsem/ML/MachineLearningExam/KNN.ipynb#X10sZmlsZQ%3D%3D?line=3'>4</a>\u001b[0m     \u001b[39mprint\u001b[39m(k, \u001b[39mround\u001b[39m(np\u001b[39m.\u001b[39mmean(scores), \u001b[39m4\u001b[39m))\n",
      "File \u001b[0;32m~/opt/anaconda3/lib/python3.9/site-packages/sklearn/model_selection/_validation.py:507\u001b[0m, in \u001b[0;36mcross_val_score\u001b[0;34m(estimator, X, y, groups, scoring, cv, n_jobs, verbose, fit_params, pre_dispatch, error_score)\u001b[0m\n\u001b[1;32m    389\u001b[0m \u001b[39m\"\"\"Evaluate a score by cross-validation.\u001b[39;00m\n\u001b[1;32m    390\u001b[0m \n\u001b[1;32m    391\u001b[0m \u001b[39mRead more in the :ref:`User Guide <cross_validation>`.\u001b[39;00m\n\u001b[0;32m   (...)\u001b[0m\n\u001b[1;32m    504\u001b[0m \u001b[39m    loss function.\u001b[39;00m\n\u001b[1;32m    505\u001b[0m \u001b[39m\"\"\"\u001b[39;00m\n\u001b[1;32m    506\u001b[0m \u001b[39m# To ensure multimetric format is not supported\u001b[39;00m\n\u001b[0;32m--> 507\u001b[0m scorer \u001b[39m=\u001b[39m check_scoring(estimator, scoring\u001b[39m=\u001b[39;49mscoring)\n\u001b[1;32m    509\u001b[0m cv_results \u001b[39m=\u001b[39m cross_validate(\n\u001b[1;32m    510\u001b[0m     estimator\u001b[39m=\u001b[39mestimator,\n\u001b[1;32m    511\u001b[0m     X\u001b[39m=\u001b[39mX,\n\u001b[0;32m   (...)\u001b[0m\n\u001b[1;32m    520\u001b[0m     error_score\u001b[39m=\u001b[39merror_score,\n\u001b[1;32m    521\u001b[0m )\n\u001b[1;32m    522\u001b[0m \u001b[39mreturn\u001b[39;00m cv_results[\u001b[39m\"\u001b[39m\u001b[39mtest_score\u001b[39m\u001b[39m\"\u001b[39m]\n",
      "File \u001b[0;32m~/opt/anaconda3/lib/python3.9/site-packages/sklearn/metrics/_scorer.py:477\u001b[0m, in \u001b[0;36mcheck_scoring\u001b[0;34m(estimator, scoring, allow_none)\u001b[0m\n\u001b[1;32m    475\u001b[0m         \u001b[39mreturn\u001b[39;00m \u001b[39mNone\u001b[39;00m\n\u001b[1;32m    476\u001b[0m     \u001b[39melse\u001b[39;00m:\n\u001b[0;32m--> 477\u001b[0m         \u001b[39mraise\u001b[39;00m \u001b[39mTypeError\u001b[39;00m(\n\u001b[1;32m    478\u001b[0m             \u001b[39m\"\u001b[39m\u001b[39mIf no scoring is specified, the estimator passed should \u001b[39m\u001b[39m\"\u001b[39m\n\u001b[1;32m    479\u001b[0m             \u001b[39m\"\u001b[39m\u001b[39mhave a \u001b[39m\u001b[39m'\u001b[39m\u001b[39mscore\u001b[39m\u001b[39m'\u001b[39m\u001b[39m method. The estimator \u001b[39m\u001b[39m%r\u001b[39;00m\u001b[39m does not.\u001b[39m\u001b[39m\"\u001b[39m \u001b[39m%\u001b[39m estimator\n\u001b[1;32m    480\u001b[0m         )\n\u001b[1;32m    481\u001b[0m \u001b[39melif\u001b[39;00m \u001b[39misinstance\u001b[39m(scoring, Iterable):\n\u001b[1;32m    482\u001b[0m     \u001b[39mraise\u001b[39;00m \u001b[39mValueError\u001b[39;00m(\n\u001b[1;32m    483\u001b[0m         \u001b[39m\"\u001b[39m\u001b[39mFor evaluating multiple scores, use \u001b[39m\u001b[39m\"\u001b[39m\n\u001b[1;32m    484\u001b[0m         \u001b[39m\"\u001b[39m\u001b[39msklearn.model_selection.cross_validate instead. \u001b[39m\u001b[39m\"\u001b[39m\n\u001b[1;32m    485\u001b[0m         \u001b[39m\"\u001b[39m\u001b[39m{0}\u001b[39;00m\u001b[39m was passed.\u001b[39m\u001b[39m\"\u001b[39m\u001b[39m.\u001b[39mformat(scoring)\n\u001b[1;32m    486\u001b[0m     )\n",
      "\u001b[0;31mTypeError\u001b[0m: If no scoring is specified, the estimator passed should have a 'score' method. The estimator <knn.KNN object at 0x7f84290a64f0> does not."
     ]
    }
   ],
   "source": [
    "for k in range (1,10):\n",
    "    knn = KNN(n_neighbors=k)\n",
    "    scores = cross_val_score(knn, X_train, y_train, cv=5)\n",
    "    print(k, round(np.mean(scores), 4))"
   ]
  }
 ],
 "metadata": {
  "kernelspec": {
   "display_name": "base",
   "language": "python",
   "name": "python3"
  },
  "language_info": {
   "codemirror_mode": {
    "name": "ipython",
    "version": 3
   },
   "file_extension": ".py",
   "mimetype": "text/x-python",
   "name": "python",
   "nbconvert_exporter": "python",
   "pygments_lexer": "ipython3",
   "version": "3.9.12"
  },
  "orig_nbformat": 4,
  "vscode": {
   "interpreter": {
    "hash": "56941cacf15e8b05765996006082865469347c2b4cdce983108d1335de8b4245"
   }
  }
 },
 "nbformat": 4,
 "nbformat_minor": 2
}
