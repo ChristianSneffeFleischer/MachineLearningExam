{
 "cells": [
  {
   "cell_type": "code",
   "execution_count": 28,
   "metadata": {},
   "outputs": [],
   "source": [
    "# Imports\n",
    "import numpy as np\n",
    "from lda import LDA\n",
    "from bayes import bayes_nonparametric\n",
    "from sklearn.preprocessing import StandardScaler\n",
    "from sklearn.metrics import accuracy_score"
   ]
  },
  {
   "cell_type": "code",
   "execution_count": 2,
   "metadata": {},
   "outputs": [],
   "source": [
    "# Load data\n",
    "trainDataNP = np.load(\"fashion_train.npy\")\n",
    "testDataNP = np.load(\"fashion_test.npy\")\n",
    "\n",
    "# Split data into X and y arrays\n",
    "X_train = trainDataNP[:, :-1]\n",
    "y_train = trainDataNP[:, -1]\n",
    "X_test = testDataNP[:, :-1]\n",
    "y_test = testDataNP[:, -1]\n",
    "\n",
    "# Scale data\n",
    "scaler = StandardScaler()\n",
    "X_train_scaled = scaler.fit_transform(X_train)\n",
    "X_test_scaled = scaler.transform(X_test)"
   ]
  },
  {
   "cell_type": "code",
   "execution_count": 42,
   "metadata": {},
   "outputs": [],
   "source": [
    "# Run through LDA\n",
    "lda = LDA(k = 2)\n",
    "X_train_proj = lda.fit_transform(X_train_scaled, y_train)\n",
    "X_test_proj = lda.transform(X_test_scaled)"
   ]
  },
  {
   "cell_type": "code",
   "execution_count": 4,
   "metadata": {},
   "outputs": [
    {
     "data": {
      "text/plain": [
       "array([[-1.23149779,  0.21399632],\n",
       "       [ 2.49507967, -0.40452641],\n",
       "       [-0.93425513,  0.1879579 ],\n",
       "       ...,\n",
       "       [-0.10597058,  1.34595721],\n",
       "       [-0.68637265,  0.34283279],\n",
       "       [ 3.01065924, -0.27911939]])"
      ]
     },
     "execution_count": 4,
     "metadata": {},
     "output_type": "execute_result"
    }
   ],
   "source": [
    "X_train_proj"
   ]
  },
  {
   "cell_type": "code",
   "execution_count": 5,
   "metadata": {},
   "outputs": [
    {
     "data": {
      "text/plain": [
       "array([[ 0.82971112,  0.24316942],\n",
       "       [-0.89387159,  0.42502107],\n",
       "       [-0.07860835,  1.6058462 ],\n",
       "       ...,\n",
       "       [-0.29280525, -1.33862382],\n",
       "       [-0.23661279,  0.65166192],\n",
       "       [-0.6864828 , -0.25190508]])"
      ]
     },
     "execution_count": 5,
     "metadata": {},
     "output_type": "execute_result"
    }
   ],
   "source": [
    "X_test_proj"
   ]
  },
  {
   "cell_type": "code",
   "execution_count": 36,
   "metadata": {},
   "outputs": [],
   "source": [
    "# Import\n",
    "\n",
    "import numpy as np\n",
    "\n",
    "# Naice non-parametric bayes classifier\n",
    "\n",
    "class bayes_nonparametric1:\n",
    "    '''\n",
    "    Naive non-parametric Bayes classifier.\n",
    "\n",
    "    This class implements a simple non-parametric Bayes classifier based on kernel density estimation.\n",
    "    '''\n",
    "\n",
    "    def __init__(self):\n",
    "        pass\n",
    "\n",
    "    def train(self, X_train, y_train, h):\n",
    "        '''\n",
    "        Train the classifier with the given training data.\n",
    "\n",
    "        Params:\n",
    "            X_train (numpy.ndarray): Training data features.\n",
    "            y_train (numpy.ndarray): Training data labels.\n",
    "            h (float): Bandwidth parameter for kernel density estimation.\n",
    "        '''\n",
    "        self.X_train = X_train\n",
    "        self.y_train = y_train\n",
    "        self.h = h # Bandwidth\n",
    "        self.classes = np.unique(y_train)\n",
    "\n",
    "        # Calculate class prior probailities\n",
    "        self.calculate_class_priors()\n",
    "\n",
    "    def calculate_class_priors(self):\n",
    "        '''Calculate class prior probabilities from the training data.'''\n",
    "        class_counts = {k: np.sum(self.y_train == k) for k in self.classes}\n",
    "        n_samples = len(self.y_train)\n",
    "        self.priors = {k: count/n_samples for k, count in class_counts.items()}\n",
    "        \n",
    "    def fit_kde(self, x):\n",
    "        '''Kernel density estimate for given input point x.'''\n",
    "\n",
    "        # Initialize multivariate feature distribution for each class\n",
    "        multivariate_estimates = {k: 1 for k in self.classes}\n",
    "\n",
    "        # Iterate over each class\n",
    "        for k in self.classes:\n",
    "\n",
    "            class_data = self.X_train[self.y_train == k] # Data in X_train belonging to class k\n",
    "            n_total = class_data.shape[0] # Number of observations in class k\n",
    "\n",
    "            # Iterate over each feature in class_data\n",
    "            for i, X_i in enumerate(class_data.T):\n",
    "\n",
    "                # Count observations in bandwith range from x\n",
    "                # n_observations = sum(1 for obs in X_i if np.abs(x - obs) <= self.h)\n",
    "                n_observations = np.sum(np.abs(X_i - x[i]) <= self.h)\n",
    "\n",
    "                # Estimate univariate feature distribution for feature X\n",
    "                kernel_estimate = n_observations / (n_total * 2 * self.h)\n",
    "\n",
    "                # Update the multivariate feature distribution estimate\n",
    "                multivariate_estimates[k] *= kernel_estimate\n",
    "\n",
    "        return multivariate_estimates\n",
    "\n",
    "    def get_posterior_probabilities(self, x):\n",
    "        '''Calculate posterior probabilities for each class for an input point x.'''\n",
    "\n",
    "        # Compute likelihoods\n",
    "        likelihoods = self.fit_kde(x)\n",
    "\n",
    "        # Compute evidence for each class\n",
    "        evidence = sum(likelihoods[k] * self.priors[k] for k in self.classes)\n",
    "        if evidence == 0: # In case of evidence is zero, add small constant\n",
    "            evidence += 1e-12 \n",
    "\n",
    "        # Compute posterior probabilities for each class\n",
    "        posteriors = {k: likelihoods[k] * self.priors[k] / evidence for k in self.classes}\n",
    "\n",
    "        return posteriors\n",
    "    \n",
    "    def _predict(self, x):\n",
    "        '''Predict the class for a single data point x.'''\n",
    "        # print('Shape of single point x:', x.shape)\n",
    "\n",
    "        # Compute posterior probabilities for each class\n",
    "        posteriors = self.get_posterior_probabilities(x)\n",
    "\n",
    "        # Return class with highest posterior probabilities\n",
    "        return max(posteriors, key = posteriors.get)\n",
    "    \n",
    "    def predict(self, X):\n",
    "        '''Predict the class for an input array X.'''\n",
    "        return [self._predict(x) for x in X]"
   ]
  },
  {
   "cell_type": "code",
   "execution_count": 41,
   "metadata": {},
   "outputs": [
    {
     "name": "stdout",
     "output_type": "stream",
     "text": [
      "0.01 0.7126\n",
      "0.02 0.7226\n",
      "0.03 0.7252\n",
      "0.04 0.7244\n",
      "0.05 0.7246\n",
      "0.06 0.7256\n",
      "0.07 0.725\n",
      "0.08 0.7252\n",
      "0.09 0.7266\n",
      "0.1 0.7276\n",
      "0.11 0.7274\n",
      "0.12 0.7294\n",
      "0.13 0.7278\n",
      "0.14 0.7274\n",
      "0.15 0.7288\n",
      "0.16 0.7282\n",
      "0.17 0.727\n",
      "0.18 0.7272\n",
      "0.19 0.7264\n",
      "0.2 0.7266\n",
      "0.21 0.727\n",
      "0.22 0.7268\n",
      "0.23 0.726\n",
      "0.24 0.7254\n",
      "0.25 0.7262\n",
      "0.26 0.725\n",
      "0.27 0.7256\n",
      "0.28 0.7256\n",
      "0.29 0.7272\n",
      "0.3 0.728\n",
      "0.31 0.728\n",
      "0.32 0.728\n",
      "0.33 0.7282\n",
      "0.34 0.7294\n",
      "0.35 0.7294\n",
      "0.36 0.7284\n",
      "0.37 0.728\n",
      "0.38 0.7278\n",
      "0.39 0.727\n",
      "0.4 0.7272\n",
      "0.41 0.7268\n",
      "0.42 0.7264\n",
      "0.43 0.7254\n",
      "0.44 0.7244\n",
      "0.45 0.7242\n",
      "0.46 0.724\n",
      "0.47 0.723\n",
      "0.48 0.7232\n",
      "0.49 0.7226\n",
      "0.5 0.7236\n",
      "0.51 0.7232\n",
      "0.52 0.7238\n",
      "0.53 0.7232\n",
      "0.54 0.723\n",
      "0.55 0.7232\n",
      "0.56 0.723\n",
      "0.57 0.7222\n",
      "0.58 0.7216\n",
      "0.59 0.7202\n",
      "0.6 0.7196\n",
      "0.61 0.72\n",
      "0.62 0.7196\n",
      "0.63 0.7198\n",
      "0.64 0.72\n",
      "0.65 0.7206\n",
      "0.66 0.7202\n",
      "0.67 0.7208\n",
      "0.68 0.72\n",
      "0.69 0.7194\n",
      "0.7 0.7184\n",
      "0.71 0.7174\n",
      "0.72 0.7164\n",
      "0.73 0.7166\n",
      "0.74 0.7162\n",
      "0.75 0.7152\n",
      "0.76 0.7136\n",
      "0.77 0.7138\n",
      "0.78 0.713\n",
      "0.79 0.7118\n",
      "0.8 0.712\n",
      "0.81 0.711\n",
      "0.82 0.7108\n",
      "0.83 0.7116\n",
      "0.84 0.7106\n",
      "0.85 0.7106\n",
      "0.86 0.71\n",
      "0.87 0.7082\n",
      "0.88 0.708\n",
      "0.89 0.7078\n",
      "0.9 0.708\n",
      "0.91 0.7072\n",
      "0.92 0.7064\n",
      "0.93 0.7066\n",
      "0.94 0.7068\n",
      "0.95 0.7058\n",
      "0.96 0.7048\n",
      "0.97 0.7038\n",
      "0.98 0.7036\n",
      "0.99 0.7032\n",
      "1.0 0.7036\n"
     ]
    }
   ],
   "source": [
    "bandwiths = np.linspace(.01, 1, 100)\n",
    "for bw in bandwiths:\n",
    "    bayes = bayes_nonparametric1()\n",
    "    bayes.train(X_train_proj, y_train, h = bw)\n",
    "    y_pred = bayes.predict(X_test_proj)\n",
    "    print(round(bw, 2), accuracy_score(y_test, y_pred))"
   ]
  },
  {
   "cell_type": "code",
   "execution_count": 8,
   "metadata": {},
   "outputs": [
    {
     "data": {
      "text/plain": [
       "{'a': 100, 'b': 2}"
      ]
     },
     "execution_count": 8,
     "metadata": {},
     "output_type": "execute_result"
    }
   ],
   "source": [
    "arr1 = np.array([[1, 2, 3], [4, 5, 6], [7, 8, 9], [10, 11, 12]])\n",
    "\n",
    "# for col in arr1:\n",
    "#     print(row)\n",
    "#     print('next')\n",
    "\n",
    "dict1 = {'a': 1, 'b': 2}\n",
    "\n",
    "dict1['a'] *= 100\n",
    "\n",
    "dict1\n"
   ]
  },
  {
   "cell_type": "code",
   "execution_count": 24,
   "metadata": {},
   "outputs": [
    {
     "data": {
      "text/plain": [
       "1"
      ]
     },
     "execution_count": 24,
     "metadata": {},
     "output_type": "execute_result"
    }
   ],
   "source": [
    "arr1 = np.array(\n",
    "    [1, 2, 3, 4, 5]\n",
    ")\n",
    "\n",
    "arr1.ndim"
   ]
  }
 ],
 "metadata": {
  "kernelspec": {
   "display_name": "base",
   "language": "python",
   "name": "python3"
  },
  "language_info": {
   "codemirror_mode": {
    "name": "ipython",
    "version": 3
   },
   "file_extension": ".py",
   "mimetype": "text/x-python",
   "name": "python",
   "nbconvert_exporter": "python",
   "pygments_lexer": "ipython3",
   "version": "3.9.12"
  }
 },
 "nbformat": 4,
 "nbformat_minor": 2
}
