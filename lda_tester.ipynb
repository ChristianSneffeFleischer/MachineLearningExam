{
 "cells": [
  {
   "cell_type": "markdown",
   "metadata": {},
   "source": [
    "# Tester notebook for the LDA dimensionality reduction method"
   ]
  },
  {
   "cell_type": "code",
   "execution_count": 3,
   "metadata": {},
   "outputs": [
    {
     "name": "stderr",
     "output_type": "stream",
     "text": [
      "/Users/chris/opt/anaconda3/lib/python3.9/site-packages/scipy/__init__.py:132: UserWarning: A NumPy version >=1.21.6 and <1.28.0 is required for this version of SciPy (detected version 1.21.5)\n",
      "  warnings.warn(f\"A NumPy version >={np_minversion} and <{np_maxversion}\"\n",
      "<frozen importlib._bootstrap>:228: RuntimeWarning: scipy._lib.messagestream.MessageStream size changed, may indicate binary incompatibility. Expected 56 from C header, got 64 from PyObject\n"
     ]
    }
   ],
   "source": [
    "# Imports\n",
    "\n",
    "#Standard imports\n",
    "import numpy as np\n",
    "import pandas as pd\n",
    "import matplotlib.pyplot as plt\n",
    "from matplotlib.colors import ListedColormap\n",
    "\n",
    "# Scikit Learn\n",
    "from sklearn.preprocessing import StandardScaler\n",
    "from sklearn.decomposition import PCA\n",
    "from sklearn.discriminant_analysis import LinearDiscriminantAnalysis\n",
    "from sklearn.metrics import accuracy_score\n",
    "from sklearn.model_selection import cross_val_score"
   ]
  },
  {
   "cell_type": "code",
   "execution_count": 4,
   "metadata": {},
   "outputs": [],
   "source": [
    "# Load data\n",
    "trainDataNP = np.load(\"fashion_train.npy\")\n",
    "testDataNP = np.load(\"fashion_test.npy\")\n",
    "\n",
    "# Split data into X and y arrays\n",
    "X_train = trainDataNP[:, :-1]\n",
    "y_train = trainDataNP[:, -1]\n",
    "X_test = testDataNP[:, :-1]\n",
    "y_test = testDataNP[:, -1]\n",
    "\n",
    "# Scale data\n",
    "scaler = StandardScaler()\n",
    "X_train_scaled = scaler.fit_transform(X_train)\n",
    "X_test_scaled = scaler.transform(X_test)"
   ]
  },
  {
   "cell_type": "code",
   "execution_count": 5,
   "metadata": {},
   "outputs": [],
   "source": [
    "# Create LDA class\n",
    "\n",
    "class LDA:\n",
    "    def __init__(self):\n",
    "        pass\n",
    "\n",
    "    def fit(self, X_train, y_train):\n",
    "        self.X_train = X_train\n",
    "        self.y_train = y_train\n",
    "        self.class_labels = np.unique(y_train)\n",
    "        self.coeffs, self.constants = self.compute_coeffs_and_constants()\n",
    "        return self\n",
    "\n",
    "    def compute_class_stats(self, class_label):\n",
    "        '''Compute class specific statistics.'''\n",
    "        class_data = self.X_train[self.y_train == class_label]\n",
    "        class_sample_mean = np.mean(class_data, axis = 0)\n",
    "        class_sample_var = np.var(class_data, axis = 0)\n",
    "        class_sample_prior = np.sum(self.y_train == class_label) / len(self.y_train)\n",
    "        return class_sample_mean, class_sample_var, class_sample_prior\n",
    "\n",
    "    def compute_coeffs_and_constants(self):\n",
    "        '''Compute coefficients and constants for each class.'''\n",
    "        coeffs = {} # Initialize empty dictionary for coefficients\n",
    "        constants = {} # Initialize empty dictionary for constants\n",
    "        epsilon = 1e-12 # Small constant to avoid division by zero\n",
    "\n",
    "        # Iterate over each class\n",
    "        for class_label in self.class_labels:\n",
    "\n",
    "            # Get statistics for class\n",
    "            sample_mean, sample_var, sample_prior = self.compute_class_stats(class_label)\n",
    "            \n",
    "            # Compute coefficient\n",
    "            alpha = sample_mean / (sample_var + epsilon)\n",
    "\n",
    "            # Compute constant\n",
    "            beta = -(np.sum(sample_mean**2) / (2 * np.sum(sample_var))) + np.log(sample_prior)\n",
    "\n",
    "            # Record coefficient and constant in dictionaries\n",
    "            coeffs[class_label] = alpha\n",
    "            constants[class_label] = beta\n",
    "\n",
    "        return coeffs, constants\n",
    "\n",
    "    def discriminant(self, X, alpha, beta):\n",
    "        '''Compute the discriminant value for an input value or array X.'''\n",
    "        return np.dot(X, alpha) + beta\n",
    "\n",
    "    def predict(self, X):\n",
    "        '''Predict class for an input value or array X.'''\n",
    "        # check_is_fitted(self)\n",
    "        # X = check_array(X)\n",
    "\n",
    "        # Compute the discriminant values for each label\n",
    "        discriminants = np.array([self.discriminant(X, self.coeffs[class_label], self.constants[class_label]) for class_label in self.class_labels])\n",
    "        \n",
    "        # Predict classes and add labels\n",
    "        predicted_labels = np.argmax(discriminants, axis = 0)\n",
    "        predicted_classes = np.array(self.class_labels)[predicted_labels]\n",
    "        \n",
    "        return predicted_classes\n",
    "\n",
    "    def transform(self, X, n_components):\n",
    "        '''Project data onto the linear discriminant space.'''\n",
    "        # check_is_fitted(self)\n",
    "        # X = check_array(X)\n",
    "\n",
    "        # Initialize empty array to store projected data\n",
    "        projected_data = np.zeros((len(X), len(self.class_labels)))\n",
    "\n",
    "        # Iterate over each class\n",
    "        for idx, class_label in enumerate(self.class_labels):\n",
    "            # Project data using the pre-computed coefficients and constants\n",
    "            # projected_data[:, idx] = np.dot(X, self.coeffs[class_label]) + self.constants[class_label]\n",
    "\n",
    "            # Compute the discriminant values\n",
    "            discriminants = self.discriminant(X, self.coeffs[class_label], self.constants[class_label])\n",
    "\n",
    "            # Project data using the discriminant value\n",
    "            projected_data[:, idx] = discriminant\n",
    "\n",
    "        return projected_data[:, :n_components]\n",
    "\n",
    "    def score(self, X, y):\n",
    "        '''Compute accuracy for the given input data and labels.'''\n",
    "        # check_is_fitted(self)\n",
    "        # X = check_array(X)\n",
    "        # y = check_array(y)\n",
    "        y_pred = self.predict(X)\n",
    "        accuracy = np.mean(y_pred == y)\n",
    "        return accuracy"
   ]
  },
  {
   "cell_type": "code",
   "execution_count": 6,
   "metadata": {},
   "outputs": [
    {
     "name": "stdout",
     "output_type": "stream",
     "text": [
      "0.205\n"
     ]
    }
   ],
   "source": [
    "# Check accuracy\n",
    "\n",
    "# Initialize LDA model\n",
    "lda_model = LDA()\n",
    "lda_model.fit(X_train_scaled, y_train)\n",
    "\n",
    "accuracy = lda_model.score(X_test_scaled, y_test)\n",
    "print(accuracy)"
   ]
  },
  {
   "cell_type": "markdown",
   "metadata": {},
   "source": [
    "Very low.."
   ]
  },
  {
   "cell_type": "code",
   "execution_count": 14,
   "metadata": {},
   "outputs": [],
   "source": [
    "# Create new Multiple Discriminant Analysis (MDA) class which maybe works better\n",
    "# Code is adapted using \n",
    "# Alpaydin, E. (2014). Introduction to Machine Learning. The MIT Press. Section 6.8\n",
    "# and\n",
    "# https://www.csd.uwo.ca/~oveksler/Courses/CS434a_541a/Lecture8.pdf?fbclid=IwAR2txae5XGTwi8Gjo2y9SbwguiJ0SUbLvCBzY0rYq-HOxhfr2MAjPo1GG3A\n",
    "\n",
    "class MDA:\n",
    "    def __init__(self, k = 2):\n",
    "        self.k = k # Amount of discriminant variables\n",
    "        \n",
    "    def fit_transform(self, X, y):\n",
    "\n",
    "        class_labels = np.unique(y)\n",
    "        m = X.shape[1] # Amount of features\n",
    "\n",
    "        # Compute total mean of all samples\n",
    "        mu = np.mean(X, axis = 0).reshape(m, 1) # Reshape to be vertical vector\n",
    "\n",
    "        # Initiate within- and between-class scatter matrices as empty\n",
    "        S_W = np.zeros((m, m))\n",
    "        S_B = np.zeros((m, m))\n",
    "\n",
    "        # Compute within- and between-class scatter matrices by iterating over each class i\n",
    "        for label in class_labels:\n",
    "\n",
    "            X_i = X[y == label] # Matrix of data points for class i\n",
    "            mu_i = np.mean(X_i, axis = 0).reshape(m, 1) # Sample mean of class i\n",
    "\n",
    "            # Initiate withing scatter matrix for class i as empty\n",
    "            S_i = np.zeros((m, m))\n",
    "            for row in X_i:\n",
    "                row = row.reshape(m, 1) # Reshape row to be vertical vector\n",
    "                S_i += np.dot(row - mu_i, (row - mu_i).T)\n",
    "\n",
    "            # Add scatter matrix of class i to within-class scatter matrix\n",
    "            S_W += S_i\n",
    "\n",
    "            # Update between-class scatter matrix using amount of samples, as well as class and total means\n",
    "            n_i = X_i.shape[0] # Amount of samples in class i\n",
    "            S_B += n_i * np.dot(mu_i - mu, (mu_i - mu).T)\n",
    "\n",
    "        # Compute the inverse of the within-class scatter matrix\n",
    "        S_W_inv = np.linalg.inv(S_W)\n",
    "\n",
    "        # Solve the generalized eigenvalue problem\n",
    "        eigenvalues, eigenvectors = np.linalg.eig(np.dot(S_W_inv, S_B))\n",
    "        \n",
    "        # Sort the eigenvalues and eigenvectors in descending order\n",
    "        sorted_indices = np.argsort(eigenvalues)[::-1]\n",
    "        eigenvalues = eigenvalues[sorted_indices]\n",
    "        eigenvectors = eigenvectors[:, sorted_indices]\n",
    "\n",
    "        # Select the top k eigenvectors\n",
    "        selected_eigenvectors = eigenvectors[:, :self.k]\n",
    "\n",
    "        # Make sure numbers in eigenvectors are not complex\n",
    "        selected_eigenvectors = np.real(selected_eigenvectors)\n",
    "\n",
    "        # Normalize eigenvectors\n",
    "        normalized_eigenvectors = selected_eigenvectors / np.linalg.norm(selected_eigenvectors, axis = 0)\n",
    "\n",
    "        # Project the data onto the normalized discriminant subspace\n",
    "        X_projected = np.dot(X, normalized_eigenvectors)\n",
    "\n",
    "        return X_projected"
   ]
  },
  {
   "cell_type": "code",
   "execution_count": 15,
   "metadata": {},
   "outputs": [],
   "source": [
    "mda = MDA()\n",
    "X_projected = mda.fit_transform(X_train_scaled, y_train)"
   ]
  },
  {
   "cell_type": "code",
   "execution_count": 16,
   "metadata": {},
   "outputs": [
    {
     "data": {
      "text/plain": [
       "array([[-1.23149779,  0.21399632],\n",
       "       [ 2.49507967, -0.40452641],\n",
       "       [-0.93425513,  0.1879579 ],\n",
       "       ...,\n",
       "       [-0.10597058,  1.34595721],\n",
       "       [-0.68637265,  0.34283279],\n",
       "       [ 3.01065924, -0.27911939]])"
      ]
     },
     "execution_count": 16,
     "metadata": {},
     "output_type": "execute_result"
    }
   ],
   "source": [
    "X_projected"
   ]
  },
  {
   "cell_type": "code",
   "execution_count": 18,
   "metadata": {},
   "outputs": [
    {
     "data": {
      "image/png": "[encoded data removed]",
      "text/plain": [
       "<Figure size 432x288 with 1 Axes>"
      ]
     },
     "metadata": {
      "needs_background": "light"
     },
     "output_type": "display_data"
    }
   ],
   "source": [
    "class_labels = np.unique(y_train)\n",
    "\n",
    "label_names = {\n",
    "    0: \"T-shirt/top\",\n",
    "    1: \"Trouser\",\n",
    "    2: \"Pullover\",\n",
    "    3: \"Dress\",\n",
    "    4: \"Shirt\"\n",
    "}\n",
    "\n",
    "# Create a scatter plot\n",
    "for idx, class_label in enumerate(class_labels):\n",
    "    class_data = X_projected[y_train == class_label]\n",
    "    fig = plt.scatter(class_data[:, 0], class_data[:, 1], label=label_names[class_label])\n",
    "\n",
    "plt.xlabel('Linear Discriminant 1')\n",
    "plt.ylabel('Linear Discriminant 2')\n",
    "plt.title('Scatterplot of Data Projected to Linear Discriminant Space')\n",
    "plt.legend()\n",
    "plt.show()"
   ]
  },
  {
   "cell_type": "code",
   "execution_count": 12,
   "metadata": {},
   "outputs": [
    {
     "data": {
      "text/plain": [
       "array([[-2.56669806, -0.55699892],\n",
       "       [ 5.20026605,  1.0529189 ],\n",
       "       [-1.9471824 , -0.48922497],\n",
       "       ...,\n",
       "       [-0.22086478, -3.5033158 ],\n",
       "       [-1.43054366, -0.89234007],\n",
       "       [ 6.27484131,  0.72650406]])"
      ]
     },
     "execution_count": 12,
     "metadata": {},
     "output_type": "execute_result"
    }
   ],
   "source": [
    "sklearn_MDA = LinearDiscriminantAnalysis(n_components = 2)\n",
    "sklearn_MDA.fit(X_train, y_train)\n",
    "sklearn_projected = sklearn_MDA.transform(X_train)\n",
    "sklearn_projected"
   ]
  },
  {
   "cell_type": "code",
   "execution_count": 13,
   "metadata": {},
   "outputs": [
    {
     "data": {
      "image/png": "[encoded data removed]",
      "text/plain": [
       "<Figure size 432x288 with 1 Axes>"
      ]
     },
     "metadata": {
      "needs_background": "light"
     },
     "output_type": "display_data"
    }
   ],
   "source": [
    "# Create a scatter plot\n",
    "for idx, class_label in enumerate(class_labels):\n",
    "    class_data = sklearn_projected[y_train == class_label]\n",
    "    plt.scatter(class_data[:, 0], class_data[:, 1], label=f'Class {class_label}')\n",
    "\n",
    "plt.xlabel('Linear Discriminant 1')\n",
    "plt.ylabel('Linear Discriminant 2')\n",
    "plt.title('Scatterplot of Data Projected to Linear Discriminant Space')\n",
    "plt.legend()\n",
    "plt.show()"
   ]
  },
  {
   "cell_type": "code",
   "execution_count": 14,
   "metadata": {},
   "outputs": [
    {
     "name": "stdout",
     "output_type": "stream",
     "text": [
      "[0.5 1.5 2.5]\n",
      "\n",
      "\n",
      "[3.5 4.5 5.5]\n",
      "\n",
      "\n",
      "[6.5 7.5 8.5]\n",
      "\n",
      "\n"
     ]
    }
   ],
   "source": [
    "arr1 = np.array([[1, 2, 3], [4, 5, 6], [7, 8, 9]])\n",
    "\n",
    "for row in arr1:\n",
    "    print((row - np.array([.5, .5, .5])).T)\n",
    "    print('\\n')"
   ]
  },
  {
   "cell_type": "code",
   "execution_count": 15,
   "metadata": {},
   "outputs": [
    {
     "name": "stdout",
     "output_type": "stream",
     "text": [
      "[-1.23149779  2.49507967 -0.93425513 ... -0.10597058 -0.68637265\n",
      "  3.01065924]\n"
     ]
    }
   ],
   "source": [
    "X_1 = X_projected[:, 0]\n",
    "X_2 = X_projected[:, 1]\n",
    "\n",
    "print(X_1)"
   ]
  },
  {
   "cell_type": "code",
   "execution_count": 16,
   "metadata": {},
   "outputs": [],
   "source": [
    "def kernel_estimate(data, x, h):\n",
    "    n = len(data)\n",
    "    count = 0\n",
    "    for data_point in data:\n",
    "        if data_point >= x - h and data_point <= x + h:\n",
    "            count += 1\n",
    "    return count / (n * 2 * h)"
   ]
  },
  {
   "cell_type": "code",
   "execution_count": 17,
   "metadata": {},
   "outputs": [],
   "source": [
    "x_range = np.linspace(-3, 5, 1000)\n",
    "h = .5\n",
    "\n",
    "X_1_estimates = []\n",
    "X_2_estimates = []\n",
    "for x in x_range:\n",
    "    X_1_estimates.append(kernel_estimate(X_1, x, h))\n",
    "    X_2_estimates.append(kernel_estimate(X_2, x, h))"
   ]
  },
  {
   "cell_type": "code",
   "execution_count": 18,
   "metadata": {},
   "outputs": [
    {
     "data": {
      "text/plain": [
       "<matplotlib.collections.PathCollection at 0x7feba32552b0>"
      ]
     },
     "execution_count": 18,
     "metadata": {},
     "output_type": "execute_result"
    },
    {
     "data": {
      "image/png": "[encoded data removed]",
      "text/plain": [
       "<Figure size 432x288 with 1 Axes>"
      ]
     },
     "metadata": {
      "needs_background": "light"
     },
     "output_type": "display_data"
    }
   ],
   "source": [
    "import matplotlib.pyplot as plt\n",
    "\n",
    "plt.scatter(x_range, X_1_estimates)\n",
    "plt.scatter(x_range, X_2_estimates)"
   ]
  },
  {
   "cell_type": "code",
   "execution_count": 77,
   "metadata": {},
   "outputs": [],
   "source": [
    "# class bayes_nonparametric:\n",
    "#     def __init__(self, X_train, y_train, x_range, h):\n",
    "#         # self.X_1 = X_1\n",
    "#         # self.X_2 = X_2\n",
    "#         self.X_train = X_train\n",
    "#         self.class_labels = np.unique(y_train)\n",
    "#         self.class_priors = {cl: len(X_train[y_train == cl])/len(X_train) for cl in self.class_labels}\n",
    "#         # self.x_range = x_range\n",
    "#         self.h = h\n",
    "\n",
    "#     def kernel_density_estimate(self, X, x):\n",
    "#         '''Estimate f(x) for a single input value x.'''\n",
    "#         n = len(X)\n",
    "#         kernel_sum = sum(1 for dp in X if dp >= x - self.h and dp <= x + self.h)\n",
    "#         return kernel_sum / (n * 2 * self.h)\n",
    "    \n",
    "#     def likelihood_kde(self, X):\n",
    "\n",
    "\n",
    "#     def predict(self, x):\n",
    "#         '''Predict class for input value or array x.'''\n",
    "#         prediction = np.array([int(self.kernel_estimate(self.X_1, x_i) <= self.kernel_estimate(self.X_1, x_i)) for x_i in x])\n",
    "#         return prediction\n",
    "\n",
    "#     def plot_decision_regions(self):\n",
    "\n",
    "#         # Define a custom colormap for the labels\n",
    "#         custom_cmap = ListedColormap(['red', 'blue'])\n",
    "\n",
    "#         # Define a grid of points for the decision region plot\n",
    "#         x_min, x_max = X_train[:, 0].min() - 1, X_train[:, 0].max() + 1\n",
    "#         y_min, y_max = X_train[:, 1].min() - 1, X_train[:, 1].max() + 1\n",
    "#         xx, yy = np.meshgrid(np.arange(x_min, x_max, 0.01), np.arange(y_min, y_max, 0.01))\n",
    "\n",
    "#         # Predict the class labels for each point in the grid\n",
    "#         Z = self.predict(np.c_[xx.ravel(), yy.ravel()])\n",
    "#         Z = Z.reshape(xx.shape)\n",
    "\n",
    "#         # Create a contour plot of the decision boundaries using the custom colormap\n",
    "#         plt.contourf(xx, yy, Z, cmap = custom_cmap, alpha = .6)\n",
    "\n",
    "#         # Scatter plot of the data points using the same custom colormap\n",
    "#         plt.scatter(X_train[:, 0], X_train[:, 1], c = y_train, cmap = custom_cmap, edgecolor = 'k')\n",
    "#         plt.xlabel('x1')\n",
    "#         plt.ylabel('x2')\n",
    "#         plt.title('Multinomial Logistic Regression Decision Boundaries')\n",
    "#         plt.show()"
   ]
  },
  {
   "cell_type": "code",
   "execution_count": null,
   "metadata": {},
   "outputs": [],
   "source": [
    "class bayes_nonparametric:\n",
    "    def __init__(self):\n",
    "        # self.X_train = X_train\n",
    "        # self.y_train = y_train\n",
    "        # self.classes = np.unique(y_train)\n",
    "        # self.priors = None\n",
    "        # self.feature_distributions = {}\n",
    "        pass\n",
    "\n",
    "    def calculate_class_priors(self, y_train):\n",
    "        class_counts = {cl: np.sum(y_train == cl) for cl in self.classes}\n",
    "        n_samples = len(y_train)\n",
    "        self.priors = {cl: count/n_samples for cl, count in class_counts.items()}\n",
    "\n",
    "    def train(self, X_train, y_train):\n",
    "        self.classes = np.unique(y_train)\n",
    "        self.calculate_class_priors(y_train)\n",
    "\n",
    "        "
   ]
  },
  {
   "cell_type": "code",
   "execution_count": 76,
   "metadata": {},
   "outputs": [
    {
     "name": "stdout",
     "output_type": "stream",
     "text": [
      "-3.0 -0.36536536536536524\n"
     ]
    },
    {
     "ename": "ValueError",
     "evalue": "operands could not be broadcast together with shapes (2,) (1000,) ",
     "output_type": "error",
     "traceback": [
      "\u001b[0;31m---------------------------------------------------------------------------\u001b[0m",
      "\u001b[0;31mValueError\u001b[0m                                Traceback (most recent call last)",
      "\u001b[1;32m/Users/sanderengelthilo/Documents/ITU/ML/ml_exam/lda_tester.ipynb Cell 19\u001b[0m line \u001b[0;36m<cell line: 2>\u001b[0;34m()\u001b[0m\n\u001b[1;32m      <a href='vscode-notebook-cell:/Users/sanderengelthilo/Documents/ITU/ML/ml_exam/lda_tester.ipynb#X24sZmlsZQ%3D%3D?line=0'>1</a>\u001b[0m bayes \u001b[39m=\u001b[39m bayes_nonparametric(X_1, X_2, x_range, h)\n\u001b[0;32m----> <a href='vscode-notebook-cell:/Users/sanderengelthilo/Documents/ITU/ML/ml_exam/lda_tester.ipynb#X24sZmlsZQ%3D%3D?line=1'>2</a>\u001b[0m bayes\u001b[39m.\u001b[39;49mplot_decision_regions()\n",
      "\u001b[1;32m/Users/sanderengelthilo/Documents/ITU/ML/ml_exam/lda_tester.ipynb Cell 19\u001b[0m line \u001b[0;36mbayes_nonparametric.plot_decision_regions\u001b[0;34m(self)\u001b[0m\n\u001b[1;32m     <a href='vscode-notebook-cell:/Users/sanderengelthilo/Documents/ITU/ML/ml_exam/lda_tester.ipynb#X24sZmlsZQ%3D%3D?line=57'>58</a>\u001b[0m \u001b[39mprint\u001b[39m(decision_boundaries[i], decision_boundaries[i \u001b[39m+\u001b[39m \u001b[39m1\u001b[39m])\n\u001b[1;32m     <a href='vscode-notebook-cell:/Users/sanderengelthilo/Documents/ITU/ML/ml_exam/lda_tester.ipynb#X24sZmlsZQ%3D%3D?line=58'>59</a>\u001b[0m x_to_draw \u001b[39m=\u001b[39m [\u001b[39m-\u001b[39m\u001b[39m3.0\u001b[39m, \u001b[39m-\u001b[39m\u001b[39m0.365\u001b[39m] \u001b[39m# np.array([decision_boundaries[i], decision_boundaries[i + 1]])\u001b[39;00m\n\u001b[0;32m---> <a href='vscode-notebook-cell:/Users/sanderengelthilo/Documents/ITU/ML/ml_exam/lda_tester.ipynb#X24sZmlsZQ%3D%3D?line=59'>60</a>\u001b[0m plt\u001b[39m.\u001b[39;49mfill_between(x_to_draw, X_1_pdf, alpha \u001b[39m=\u001b[39;49m \u001b[39m.2\u001b[39;49m)\n",
      "File \u001b[0;32m~/opt/anaconda3/lib/python3.9/site-packages/matplotlib/pyplot.py:2543\u001b[0m, in \u001b[0;36mfill_between\u001b[0;34m(x, y1, y2, where, interpolate, step, data, **kwargs)\u001b[0m\n\u001b[1;32m   2539\u001b[0m \u001b[39m@_copy_docstring_and_deprecators\u001b[39m(Axes\u001b[39m.\u001b[39mfill_between)\n\u001b[1;32m   2540\u001b[0m \u001b[39mdef\u001b[39;00m \u001b[39mfill_between\u001b[39m(\n\u001b[1;32m   2541\u001b[0m         x, y1, y2\u001b[39m=\u001b[39m\u001b[39m0\u001b[39m, where\u001b[39m=\u001b[39m\u001b[39mNone\u001b[39;00m, interpolate\u001b[39m=\u001b[39m\u001b[39mFalse\u001b[39;00m, step\u001b[39m=\u001b[39m\u001b[39mNone\u001b[39;00m, \u001b[39m*\u001b[39m,\n\u001b[1;32m   2542\u001b[0m         data\u001b[39m=\u001b[39m\u001b[39mNone\u001b[39;00m, \u001b[39m*\u001b[39m\u001b[39m*\u001b[39mkwargs):\n\u001b[0;32m-> 2543\u001b[0m     \u001b[39mreturn\u001b[39;00m gca()\u001b[39m.\u001b[39;49mfill_between(\n\u001b[1;32m   2544\u001b[0m         x, y1, y2\u001b[39m=\u001b[39;49my2, where\u001b[39m=\u001b[39;49mwhere, interpolate\u001b[39m=\u001b[39;49minterpolate, step\u001b[39m=\u001b[39;49mstep,\n\u001b[1;32m   2545\u001b[0m         \u001b[39m*\u001b[39;49m\u001b[39m*\u001b[39;49m({\u001b[39m\"\u001b[39;49m\u001b[39mdata\u001b[39;49m\u001b[39m\"\u001b[39;49m: data} \u001b[39mif\u001b[39;49;00m data \u001b[39mis\u001b[39;49;00m \u001b[39mnot\u001b[39;49;00m \u001b[39mNone\u001b[39;49;00m \u001b[39melse\u001b[39;49;00m {}), \u001b[39m*\u001b[39;49m\u001b[39m*\u001b[39;49mkwargs)\n",
      "File \u001b[0;32m~/opt/anaconda3/lib/python3.9/site-packages/matplotlib/__init__.py:1412\u001b[0m, in \u001b[0;36m_preprocess_data.<locals>.inner\u001b[0;34m(ax, data, *args, **kwargs)\u001b[0m\n\u001b[1;32m   1409\u001b[0m \u001b[39m@functools\u001b[39m\u001b[39m.\u001b[39mwraps(func)\n\u001b[1;32m   1410\u001b[0m \u001b[39mdef\u001b[39;00m \u001b[39minner\u001b[39m(ax, \u001b[39m*\u001b[39margs, data\u001b[39m=\u001b[39m\u001b[39mNone\u001b[39;00m, \u001b[39m*\u001b[39m\u001b[39m*\u001b[39mkwargs):\n\u001b[1;32m   1411\u001b[0m     \u001b[39mif\u001b[39;00m data \u001b[39mis\u001b[39;00m \u001b[39mNone\u001b[39;00m:\n\u001b[0;32m-> 1412\u001b[0m         \u001b[39mreturn\u001b[39;00m func(ax, \u001b[39m*\u001b[39;49m\u001b[39mmap\u001b[39;49m(sanitize_sequence, args), \u001b[39m*\u001b[39;49m\u001b[39m*\u001b[39;49mkwargs)\n\u001b[1;32m   1414\u001b[0m     bound \u001b[39m=\u001b[39m new_sig\u001b[39m.\u001b[39mbind(ax, \u001b[39m*\u001b[39margs, \u001b[39m*\u001b[39m\u001b[39m*\u001b[39mkwargs)\n\u001b[1;32m   1415\u001b[0m     auto_label \u001b[39m=\u001b[39m (bound\u001b[39m.\u001b[39marguments\u001b[39m.\u001b[39mget(label_namer)\n\u001b[1;32m   1416\u001b[0m                   \u001b[39mor\u001b[39;00m bound\u001b[39m.\u001b[39mkwargs\u001b[39m.\u001b[39mget(label_namer))\n",
      "File \u001b[0;32m~/opt/anaconda3/lib/python3.9/site-packages/matplotlib/axes/_axes.py:5252\u001b[0m, in \u001b[0;36mAxes.fill_between\u001b[0;34m(self, x, y1, y2, where, interpolate, step, **kwargs)\u001b[0m\n\u001b[1;32m   5250\u001b[0m \u001b[39mdef\u001b[39;00m \u001b[39mfill_between\u001b[39m(\u001b[39mself\u001b[39m, x, y1, y2\u001b[39m=\u001b[39m\u001b[39m0\u001b[39m, where\u001b[39m=\u001b[39m\u001b[39mNone\u001b[39;00m, interpolate\u001b[39m=\u001b[39m\u001b[39mFalse\u001b[39;00m,\n\u001b[1;32m   5251\u001b[0m                  step\u001b[39m=\u001b[39m\u001b[39mNone\u001b[39;00m, \u001b[39m*\u001b[39m\u001b[39m*\u001b[39mkwargs):\n\u001b[0;32m-> 5252\u001b[0m     \u001b[39mreturn\u001b[39;00m \u001b[39mself\u001b[39;49m\u001b[39m.\u001b[39;49m_fill_between_x_or_y(\n\u001b[1;32m   5253\u001b[0m         \u001b[39m\"\u001b[39;49m\u001b[39mx\u001b[39;49m\u001b[39m\"\u001b[39;49m, x, y1, y2,\n\u001b[1;32m   5254\u001b[0m         where\u001b[39m=\u001b[39;49mwhere, interpolate\u001b[39m=\u001b[39;49minterpolate, step\u001b[39m=\u001b[39;49mstep, \u001b[39m*\u001b[39;49m\u001b[39m*\u001b[39;49mkwargs)\n",
      "File \u001b[0;32m~/opt/anaconda3/lib/python3.9/site-packages/matplotlib/axes/_axes.py:5173\u001b[0m, in \u001b[0;36mAxes._fill_between_x_or_y\u001b[0;34m(self, ind_dir, ind, dep1, dep2, where, interpolate, step, **kwargs)\u001b[0m\n\u001b[1;32m   5170\u001b[0m     \u001b[39mif\u001b[39;00m where\u001b[39m.\u001b[39msize \u001b[39m!=\u001b[39m ind\u001b[39m.\u001b[39msize:\n\u001b[1;32m   5171\u001b[0m         \u001b[39mraise\u001b[39;00m \u001b[39mValueError\u001b[39;00m(\u001b[39mf\u001b[39m\u001b[39m\"\u001b[39m\u001b[39mwhere size (\u001b[39m\u001b[39m{\u001b[39;00mwhere\u001b[39m.\u001b[39msize\u001b[39m}\u001b[39;00m\u001b[39m) does not match \u001b[39m\u001b[39m\"\u001b[39m\n\u001b[1;32m   5172\u001b[0m                          \u001b[39mf\u001b[39m\u001b[39m\"\u001b[39m\u001b[39m{\u001b[39;00mind_dir\u001b[39m}\u001b[39;00m\u001b[39m size (\u001b[39m\u001b[39m{\u001b[39;00mind\u001b[39m.\u001b[39msize\u001b[39m}\u001b[39;00m\u001b[39m)\u001b[39m\u001b[39m\"\u001b[39m)\n\u001b[0;32m-> 5173\u001b[0m where \u001b[39m=\u001b[39m where \u001b[39m&\u001b[39m \u001b[39m~\u001b[39mfunctools\u001b[39m.\u001b[39;49mreduce(\n\u001b[1;32m   5174\u001b[0m     np\u001b[39m.\u001b[39;49mlogical_or, \u001b[39mmap\u001b[39;49m(np\u001b[39m.\u001b[39;49mma\u001b[39m.\u001b[39;49mgetmask, [ind, dep1, dep2]))\n\u001b[1;32m   5176\u001b[0m ind, dep1, dep2 \u001b[39m=\u001b[39m np\u001b[39m.\u001b[39mbroadcast_arrays(\n\u001b[1;32m   5177\u001b[0m     np\u001b[39m.\u001b[39matleast_1d(ind), dep1, dep2, subok\u001b[39m=\u001b[39m\u001b[39mTrue\u001b[39;00m)\n\u001b[1;32m   5179\u001b[0m polys \u001b[39m=\u001b[39m []\n",
      "\u001b[0;31mValueError\u001b[0m: operands could not be broadcast together with shapes (2,) (1000,) "
     ]
    },
    {
     "data": {
      "image/png": "[encoded data removed]",
      "text/plain": [
       "<Figure size 432x288 with 1 Axes>"
      ]
     },
     "metadata": {
      "needs_background": "light"
     },
     "output_type": "display_data"
    }
   ],
   "source": [
    "bayes = bayes_nonparametric(X_1, X_2, x_range, h)\n",
    "bayes.plot_decision_regions()"
   ]
  },
  {
   "cell_type": "code",
   "execution_count": null,
   "metadata": {},
   "outputs": [],
   "source": [
    "    ## FIX THIS BELOW, NEED TO HAVE MULTIPLE DECISION BOUNDARIES !!!\n",
    "\n",
    "    # def get_decision_boundary(self):\n",
    "        # sign_change_indices = np.where(np.diff(np.sign(self.X_1 - self.X_2)))[0]\n",
    "        # if sign_change_indices.size > 0:\n",
    "        #     decision_boundary = self.x_range[sign_change_indices[0]]\n",
    "        # else:\n",
    "        #     # No sign change found, one function dominates the other on all ranges of x\n",
    "        #     if self.X_1[0] > self.X_2[0]:\n",
    "        #         decision_boundary = -np.inf\n",
    "        #     else:\n",
    "        #         decision_boundary = np.inf\n",
    "\n",
    "        # return decision_boundary\n",
    "\n",
    "    ## FIX THIS BELOW\n",
    "\n",
    "    # def plot_decision_regions(self):\n",
    "\n",
    "    #     # Get estimates\n",
    "    #     X_1_pdf = [self.kernel_estimate(X_1, x) for x in self.x_range]\n",
    "    #     X_2_pdf = [self.kernel_estimate(X_2, x) for x in self.x_range]\n",
    "\n",
    "    #     # Plot the likelihood functions g_k(x)\n",
    "    #     plt.plot(self.x_range, X_1_pdf, label = 'f_1(x)')\n",
    "    #     plt.plot(self.x_range, X_2_pdf, label = 'f_2(x)')\n",
    "\n",
    "    #     # Find the decision boundary (where X_1 = X_2, if any)\n",
    "    #     decision_boundary = self.get_decision_boundary()\n",
    "    #     plt.axvline(x = decision_boundary, color = 'k', linestyle = '--', label = 'Decision Boundary')\n",
    "\n",
    "    #     # Highlight the decision regions\n",
    "    #     plt.fill_between(self.x_range, X_1_pdf, where = (self.x_range > decision_boundary), alpha = .2, label = 'Decision Region for Y=1')\n",
    "    #     plt.fill_between(self.x_range, X_2_pdf, where = (self.x_range <= decision_boundary), alpha = .2, label = 'Decision Region for Y=2')\n",
    "\n",
    "    #     # Add labels and legend\n",
    "    #     plt.xlabel('x')\n",
    "    #     plt.ylabel('f(x)')\n",
    "    #     plt.title('Bayes Classifier')\n",
    "    #     plt.legend()\n",
    "    #     plt.grid(True)\n",
    "\n",
    "    #     # Show plot\n",
    "    #     plt.show()\n",
    "\n",
    "    # def plot_decision_regions(self):\n",
    "\n",
    "    #     # Get estimates\n",
    "    #     X_1_pdf = [self.kernel_estimate(X_1, x) for x in self.x_range]\n",
    "    #     X_2_pdf = [self.kernel_estimate(X_2, x) for x in self.x_range]\n",
    "\n",
    "    #     # Plot the kernel estimate PDF's\n",
    "    #     plt.plot(self.x_range, X_1_pdf, label = 'f_1(x)')\n",
    "    #     plt.plot(self.x_range, X_2_pdf, label = 'f_2(x)')\n",
    "\n",
    "    #     # Classify points to one of two classes\n",
    "    #     class_of_dp = {}\n",
    "    #     for dp in x_range:\n",
    "    #         if self.kernel_estimate(self.X_1, dp) > self.kernel_estimate(self.X_2, dp):\n",
    "    #             class_of_dp[dp] = 0\n",
    "    #         else:\n",
    "    #             class_of_dp[dp] = 1\n",
    "\n",
    "    #     # Find decision boundaries\n",
    "    #     decision_boundaries = [self.x_range[0]] #[-np.inf] # Initialize list of decision boundaries with negative infinity\n",
    "    #     for i in range(len(x_range) - 1):\n",
    "    #         # Add decision boundary if class changes\n",
    "    #         if class_of_dp[x_range[i]] - class_of_dp[x_range[i + 1]] != 0:\n",
    "    #             decision_boundaries.append(x_range[i])\n",
    "    #     decision_boundaries.append(self.x_range[-1]) # End list of decision boundaries with positive infinity\n",
    "\n",
    "    #     # Plot decision boundaries and decision regions\n",
    "    #     # for i in range(len(decision_boundaries)):\n",
    "    #     #     plt.axvline(x = decision_boundaries[i], color = 'k', linestyle = '--', label = 'Decision Boundary')\n",
    "    #     #     if i == 0:\n",
    "    #     #         plt.fill_between(self.x_range, X_1_pdf, where = (self.x_range < decision_boundaries[i]), alpha = .2, label = 'Decision Region for LD1')\n",
    "    #     #     elif i == len(decision_boundaries) - 1:\n",
    "    #     #         plt.fill_between(self.x_range, X_1_pdf, where = (self.x_range > decision_boundaries[i]), alpha = .2, label = 'Decision Region for LD1')\n",
    "    #     #     else:\n",
    "    #     #         plt.fill_between(self.x_range, X_1_pdf, where = ([self.x_range > decision_boundaries[i], self.x_range < decision_boundaries[i + 1]]), \n",
    "    #     #                                                 alpha = .2, \n",
    "    #     #                                                 label = 'Decision Region for LD1')\n",
    "\n",
    "    #     for i in range(len(decision_boundaries) - 1):\n",
    "            \n",
    "    #         # Draw decision boundary\n",
    "    #         plt.axvline(x = decision_boundaries[i], color = 'k', linestyle = '--', label = 'Decision Boundary')\n",
    "\n",
    "    #         if i != len(decision_boundaries) - 1:\n",
    "    #             print(decision_boundaries[i], decision_boundaries[i + 1])\n",
    "    #             x_to_draw = [-3.0, -0.365] # np.array([decision_boundaries[i], decision_boundaries[i + 1]])\n",
    "    #             plt.fill_between(x_to_draw, X_1_pdf, alpha = .2)"
   ]
  },
  {
   "cell_type": "code",
   "execution_count": 52,
   "metadata": {},
   "outputs": [
    {
     "name": "stdout",
     "output_type": "stream",
     "text": [
      "[0, 1, 2, 3, 4]\n",
      "[1, 2, 3]\n"
     ]
    }
   ],
   "source": [
    "list1 = [1, 2, 3, 4, 5]\n",
    "\n",
    "print([i for i in range(len(list1))])\n",
    "print([i for i in range(1, len(list1) - 1)])"
   ]
  }
 ],
 "metadata": {
  "kernelspec": {
   "display_name": "base",
   "language": "python",
   "name": "python3"
  },
  "language_info": {
   "codemirror_mode": {
    "name": "ipython",
    "version": 3
   },
   "file_extension": ".py",
   "mimetype": "text/x-python",
   "name": "python",
   "nbconvert_exporter": "python",
   "pygments_lexer": "ipython3",
   "version": "3.9.12"
  },
  "vscode": {
   "interpreter": {
    "hash": "56941cacf15e8b05765996006082865469347c2b4cdce983108d1335de8b4245"
   }
  }
 },
 "nbformat": 4,
 "nbformat_minor": 2
}
