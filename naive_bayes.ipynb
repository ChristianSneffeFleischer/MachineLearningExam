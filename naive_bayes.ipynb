{
 "cells": [
  {
   "cell_type": "code",
   "execution_count": 1,
   "metadata": {},
   "outputs": [],
   "source": [
    "def kernel_estimate(data, x, h):\n",
    "    count = 0\n",
    "    for data_point in data:\n",
    "        if data_point >= x - h and data_point <= x + h:\n",
    "            count += 1\n",
    "    return count / (n * 2 * h)"
   ]
  },
  {
   "cell_type": "code",
   "execution_count": 4,
   "metadata": {},
   "outputs": [],
   "source": [
    "class bayes_nonparametric:\n",
    "    def __init__(self, X_1, X_2, x_range, h):\n",
    "        self.X_1 = X_1\n",
    "        self.X_2 = X_2\n",
    "        self.x_range = x_range\n",
    "        self.h = h\n",
    "        self.n = len(X)\n",
    "\n",
    "    def kernel_estimate(self, x):\n",
    "        '''Estimate f(x) for a single input value x'''\n",
    "        count = sum(1 for dp in self.X if dp >= x - self.h and dp <= x + self.h)\n",
    "        return count / (self.n * 2 * self.h)\n",
    "\n",
    "    def get_decision_boundary(self):\n",
    "        sign_change_indices = np.where(np.diff(np.sign(self.X_1 - self.X_2)))[0]\n",
    "        if sign_change_indices.size > 0:\n",
    "            decision_boundary = self.x_range[sign_change_indices[0]]\n",
    "        else:\n",
    "            # No sign change found, one function dominates the other on all ranges of x\n",
    "            if self.X_1[0] > self.X_2[0]:\n",
    "                decision_boundary = -np.inf\n",
    "            else:\n",
    "                decision_boundary = np.inf\n",
    "\n",
    "        return decision_boundary\n",
    "\n",
    "    def plot_decision_regions(self):\n",
    "\n",
    "        # Plot the likelihood functions g_k(x)\n",
    "        plt.plot(self.x_range, self.X_1, label = 'f_1(x)')\n",
    "        plt.plot(self.x_range, self.X_2, label = 'f_2(x)')\n",
    "\n",
    "        # Find the decision boundary (where X_1 = X_2, if any)\n",
    "        decision_boundary = self.get_decision_boundary()\n",
    "        plt.axvline(x = decision_boundary, color = 'k', linestyle = '--', label = 'Decision Boundary')\n",
    "\n",
    "        # Highlight the decision regions\n",
    "        plt.fill_between(self.x, self.X_1, where = (self.x > decision_boundary), alpha = .2, label = 'Decision Region for Y=1')\n",
    "        plt.fill_between(self.x, self.X_2, where = (self.x <= decision_boundary), alpha = .2, label = 'Decision Region for Y=2')\n",
    "\n",
    "        # Add labels and legend\n",
    "        plt.xlabel('x')\n",
    "        plt.ylabel('g(x)')\n",
    "        plt.title('Bayes Classifier')\n",
    "        plt.legend()\n",
    "        plt.grid(True)\n",
    "\n",
    "        # Show plot\n",
    "        plt.show()"
   ]
  },
  {
   "cell_type": "code",
   "execution_count": null,
   "metadata": {},
   "outputs": [],
   "source": [
    "bayes = bayes_nonparametric()"
   ]
  }
 ],
 "metadata": {
  "kernelspec": {
   "display_name": "base",
   "language": "python",
   "name": "python3"
  },
  "language_info": {
   "codemirror_mode": {
    "name": "ipython",
    "version": 3
   },
   "file_extension": ".py",
   "mimetype": "text/x-python",
   "name": "python",
   "nbconvert_exporter": "python",
   "pygments_lexer": "ipython3",
   "version": "3.9.12"
  }
 },
 "nbformat": 4,
 "nbformat_minor": 2
}
